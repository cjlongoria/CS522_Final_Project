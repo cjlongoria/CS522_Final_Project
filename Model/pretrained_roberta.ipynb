{
 "cells": [
  {
   "cell_type": "code",
   "execution_count": 223,
   "metadata": {},
   "outputs": [],
   "source": [
    "from transformers import AutoModelForSequenceClassification\n",
    "from transformers import AutoTokenizer, Trainer\n",
    "import numpy as np\n",
    "import pandas as pd\n",
    "from datasets import Dataset\n",
    "from sklearn.metrics import classification_report\n",
    "import re"
   ]
  },
  {
   "cell_type": "code",
   "execution_count": 224,
   "metadata": {},
   "outputs": [],
   "source": [
    "model_name = \"siebert/sentiment-roberta-large-english\"\n",
    "tokenizer = AutoTokenizer.from_pretrained(model_name)\n",
    "model = AutoModelForSequenceClassification.from_pretrained(model_name)\n",
    "trainer = Trainer(model=model)\n",
    "DATA = '../Data/Twitter/test.csv'"
   ]
  },
  {
   "cell_type": "code",
   "execution_count": 225,
   "metadata": {},
   "outputs": [
    {
     "data": {
      "text/plain": [
       "{0: 'NEGATIVE', 1: 'POSITIVE'}"
      ]
     },
     "execution_count": 225,
     "metadata": {},
     "output_type": "execute_result"
    }
   ],
   "source": [
    "model.config.id2label"
   ]
  },
  {
   "cell_type": "code",
   "execution_count": 226,
   "metadata": {},
   "outputs": [
    {
     "data": {
      "text/html": [
       "<div>\n",
       "<style scoped>\n",
       "    .dataframe tbody tr th:only-of-type {\n",
       "        vertical-align: middle;\n",
       "    }\n",
       "\n",
       "    .dataframe tbody tr th {\n",
       "        vertical-align: top;\n",
       "    }\n",
       "\n",
       "    .dataframe thead th {\n",
       "        text-align: right;\n",
       "    }\n",
       "</style>\n",
       "<table border=\"1\" class=\"dataframe\">\n",
       "  <thead>\n",
       "    <tr style=\"text-align: right;\">\n",
       "      <th></th>\n",
       "      <th>target</th>\n",
       "      <th>text</th>\n",
       "    </tr>\n",
       "  </thead>\n",
       "  <tbody>\n",
       "    <tr>\n",
       "      <th>0</th>\n",
       "      <td>-1</td>\n",
       "      <td>@ilydi hayuuk but cannot.. exammers on monday.  thinking of after siiih</td>\n",
       "    </tr>\n",
       "    <tr>\n",
       "      <th>1</th>\n",
       "      <td>1</td>\n",
       "      <td>ben ?u an Ã¯Â¿Â½ekiyorum. RELOADED rulz  re: http://ff.im/2ZzUt</td>\n",
       "    </tr>\n",
       "    <tr>\n",
       "      <th>2</th>\n",
       "      <td>1</td>\n",
       "      <td>have nice weekend !!guys !!!  !!!</td>\n",
       "    </tr>\n",
       "    <tr>\n",
       "      <th>3</th>\n",
       "      <td>1</td>\n",
       "      <td>@smont I got home some time after 2, not sure exactly when. Maybe half 2. Nathan was still there when I left :O Good on him</td>\n",
       "    </tr>\n",
       "    <tr>\n",
       "      <th>4</th>\n",
       "      <td>1</td>\n",
       "      <td>@alyssaaction beach ready in street clothes hahaha! Sexy</td>\n",
       "    </tr>\n",
       "    <tr>\n",
       "      <th>...</th>\n",
       "      <td>...</td>\n",
       "      <td>...</td>\n",
       "    </tr>\n",
       "    <tr>\n",
       "      <th>19995</th>\n",
       "      <td>-1</td>\n",
       "      <td>Youth was awesome! Church later! Left my charger there  laptop died, rip buddy</td>\n",
       "    </tr>\n",
       "    <tr>\n",
       "      <th>19996</th>\n",
       "      <td>-1</td>\n",
       "      <td>Good morning everyone! Had an awesome dream about Danny.... What a bummer it was just a dream  x x x</td>\n",
       "    </tr>\n",
       "    <tr>\n",
       "      <th>19997</th>\n",
       "      <td>1</td>\n",
       "      <td>@vahnee btw: very very few of my &amp;quot;followers&amp;quot; are playing along.. :-P if that makes u feel any better..</td>\n",
       "    </tr>\n",
       "    <tr>\n",
       "      <th>19998</th>\n",
       "      <td>1</td>\n",
       "      <td>@wikiworf LOL i never followed him anyway... just wondering that's all!</td>\n",
       "    </tr>\n",
       "    <tr>\n",
       "      <th>19999</th>\n",
       "      <td>1</td>\n",
       "      <td>http://bit.ly/12qtgL  check out my song tell me wat yu think</td>\n",
       "    </tr>\n",
       "  </tbody>\n",
       "</table>\n",
       "<p>20000 rows × 2 columns</p>\n",
       "</div>"
      ],
      "text/plain": [
       "       target  \\\n",
       "0          -1   \n",
       "1           1   \n",
       "2           1   \n",
       "3           1   \n",
       "4           1   \n",
       "...       ...   \n",
       "19995      -1   \n",
       "19996      -1   \n",
       "19997       1   \n",
       "19998       1   \n",
       "19999       1   \n",
       "\n",
       "                                                                                                                               text  \n",
       "0                                                           @ilydi hayuuk but cannot.. exammers on monday.  thinking of after siiih  \n",
       "1                                                                   ben ?u an Ã¯Â¿Â½ekiyorum. RELOADED rulz  re: http://ff.im/2ZzUt  \n",
       "2                                                                                                 have nice weekend !!guys !!!  !!!  \n",
       "3      @smont I got home some time after 2, not sure exactly when. Maybe half 2. Nathan was still there when I left :O Good on him   \n",
       "4                                                                         @alyssaaction beach ready in street clothes hahaha! Sexy   \n",
       "...                                                                                                                             ...  \n",
       "19995                                                Youth was awesome! Church later! Left my charger there  laptop died, rip buddy  \n",
       "19996                          Good morning everyone! Had an awesome dream about Danny.... What a bummer it was just a dream  x x x  \n",
       "19997             @vahnee btw: very very few of my &quot;followers&quot; are playing along.. :-P if that makes u feel any better..   \n",
       "19998                                                     @wikiworf LOL i never followed him anyway... just wondering that's all!    \n",
       "19999                                                                 http://bit.ly/12qtgL  check out my song tell me wat yu think   \n",
       "\n",
       "[20000 rows x 2 columns]"
      ]
     },
     "execution_count": 226,
     "metadata": {},
     "output_type": "execute_result"
    }
   ],
   "source": [
    "pd.set_option('display.max_colwidth', None)\n",
    "df = pd.read_csv(DATA, encoding='latin')\n",
    "df"
   ]
  },
  {
   "cell_type": "code",
   "execution_count": 227,
   "metadata": {},
   "outputs": [
    {
     "data": {
      "text/html": [
       "<div>\n",
       "<style scoped>\n",
       "    .dataframe tbody tr th:only-of-type {\n",
       "        vertical-align: middle;\n",
       "    }\n",
       "\n",
       "    .dataframe tbody tr th {\n",
       "        vertical-align: top;\n",
       "    }\n",
       "\n",
       "    .dataframe thead th {\n",
       "        text-align: right;\n",
       "    }\n",
       "</style>\n",
       "<table border=\"1\" class=\"dataframe\">\n",
       "  <thead>\n",
       "    <tr style=\"text-align: right;\">\n",
       "      <th></th>\n",
       "      <th>label</th>\n",
       "      <th>text</th>\n",
       "    </tr>\n",
       "  </thead>\n",
       "  <tbody>\n",
       "    <tr>\n",
       "      <th>0</th>\n",
       "      <td>0</td>\n",
       "      <td>hayuuk but cannot.. exammers on monday.  thinking of after siiih</td>\n",
       "    </tr>\n",
       "    <tr>\n",
       "      <th>1</th>\n",
       "      <td>1</td>\n",
       "      <td>ben ?u an Ã¯Â¿Â½ekiyorum. RELOADED rulz  re:</td>\n",
       "    </tr>\n",
       "    <tr>\n",
       "      <th>2</th>\n",
       "      <td>1</td>\n",
       "      <td>have nice weekend !!guys !!!  !!!</td>\n",
       "    </tr>\n",
       "    <tr>\n",
       "      <th>3</th>\n",
       "      <td>1</td>\n",
       "      <td>I got home some time after 2, not sure exactly when. Maybe half 2. Nathan was still there when I left :O Good on him</td>\n",
       "    </tr>\n",
       "    <tr>\n",
       "      <th>4</th>\n",
       "      <td>1</td>\n",
       "      <td>beach ready in street clothes hahaha! Sexy</td>\n",
       "    </tr>\n",
       "    <tr>\n",
       "      <th>...</th>\n",
       "      <td>...</td>\n",
       "      <td>...</td>\n",
       "    </tr>\n",
       "    <tr>\n",
       "      <th>19995</th>\n",
       "      <td>0</td>\n",
       "      <td>Youth was awesome! Church later! Left my charger there  laptop died, rip buddy</td>\n",
       "    </tr>\n",
       "    <tr>\n",
       "      <th>19996</th>\n",
       "      <td>0</td>\n",
       "      <td>Good morning everyone! Had an awesome dream about Danny.... What a bummer it was just a dream  x x x</td>\n",
       "    </tr>\n",
       "    <tr>\n",
       "      <th>19997</th>\n",
       "      <td>1</td>\n",
       "      <td>btw: very very few of my &amp;quot;followers&amp;quot; are playing along.. :-P if that makes u feel any better..</td>\n",
       "    </tr>\n",
       "    <tr>\n",
       "      <th>19998</th>\n",
       "      <td>1</td>\n",
       "      <td>LOL i never followed him anyway... just wondering that's all!</td>\n",
       "    </tr>\n",
       "    <tr>\n",
       "      <th>19999</th>\n",
       "      <td>1</td>\n",
       "      <td>check out my song tell me wat yu think</td>\n",
       "    </tr>\n",
       "  </tbody>\n",
       "</table>\n",
       "<p>20000 rows × 2 columns</p>\n",
       "</div>"
      ],
      "text/plain": [
       "       label  \\\n",
       "0          0   \n",
       "1          1   \n",
       "2          1   \n",
       "3          1   \n",
       "4          1   \n",
       "...      ...   \n",
       "19995      0   \n",
       "19996      0   \n",
       "19997      1   \n",
       "19998      1   \n",
       "19999      1   \n",
       "\n",
       "                                                                                                                         text  \n",
       "0                                                            hayuuk but cannot.. exammers on monday.  thinking of after siiih  \n",
       "1                                                                               ben ?u an Ã¯Â¿Â½ekiyorum. RELOADED rulz  re:   \n",
       "2                                                                                           have nice weekend !!guys !!!  !!!  \n",
       "3       I got home some time after 2, not sure exactly when. Maybe half 2. Nathan was still there when I left :O Good on him   \n",
       "4                                                                                 beach ready in street clothes hahaha! Sexy   \n",
       "...                                                                                                                       ...  \n",
       "19995                                          Youth was awesome! Church later! Left my charger there  laptop died, rip buddy  \n",
       "19996                    Good morning everyone! Had an awesome dream about Danny.... What a bummer it was just a dream  x x x  \n",
       "19997               btw: very very few of my &quot;followers&quot; are playing along.. :-P if that makes u feel any better..   \n",
       "19998                                                         LOL i never followed him anyway... just wondering that's all!    \n",
       "19999                                                                                 check out my song tell me wat yu think   \n",
       "\n",
       "[20000 rows x 2 columns]"
      ]
     },
     "execution_count": 227,
     "metadata": {},
     "output_type": "execute_result"
    }
   ],
   "source": [
    "df['target'].replace({-1:0},inplace=True)\n",
    "df.rename(columns={'target':'label'}, inplace=True)\n",
    "# Remove urls\n",
    "url_pattern = re.compile(r'https?://\\S+|www\\.\\S+|\\b\\w+\\.com\\b|\\b\\w+\\.org\\b')\n",
    "df['text'] = df['text'].apply(lambda x: url_pattern.sub('', x))\n",
    "#removing usernames\n",
    "username_pattern = re.compile(r'@\\w+')\n",
    "df['text'] = df['text'].apply(lambda x: username_pattern.sub('', x))\n",
    "df"
   ]
  },
  {
   "cell_type": "code",
   "execution_count": 228,
   "metadata": {},
   "outputs": [
    {
     "data": {
      "text/plain": [
       "1    10039\n",
       "0     9961\n",
       "Name: label, dtype: int64"
      ]
     },
     "execution_count": 228,
     "metadata": {},
     "output_type": "execute_result"
    }
   ],
   "source": [
    "df['label'].value_counts()"
   ]
  },
  {
   "cell_type": "code",
   "execution_count": 229,
   "metadata": {},
   "outputs": [
    {
     "data": {
      "text/plain": [
       "{'label': 0,\n",
       " 'text': ' hayuuk but cannot.. exammers on monday.  thinking of after siiih'}"
      ]
     },
     "execution_count": 229,
     "metadata": {},
     "output_type": "execute_result"
    }
   ],
   "source": [
    "def tokenize_function(examples):\n",
    "    return tokenizer(examples[\"text\"], padding=\"max_length\", truncation=True)\n",
    "\n",
    "dataset = Dataset.from_pandas(df)\n",
    "dataset[0]"
   ]
  },
  {
   "cell_type": "code",
   "execution_count": 230,
   "metadata": {},
   "outputs": [
    {
     "data": {
      "application/vnd.jupyter.widget-view+json": {
       "model_id": "5a88011b746346ddaa46d701a47ba0c4",
       "version_major": 2,
       "version_minor": 0
      },
      "text/plain": [
       "Map:   0%|          | 0/20000 [00:00<?, ? examples/s]"
      ]
     },
     "metadata": {},
     "output_type": "display_data"
    },
    {
     "data": {
      "text/plain": [
       "Dataset({\n",
       "    features: ['label', 'text', 'input_ids', 'attention_mask'],\n",
       "    num_rows: 20000\n",
       "})"
      ]
     },
     "execution_count": 230,
     "metadata": {},
     "output_type": "execute_result"
    }
   ],
   "source": [
    "test_dataset = dataset.map(tokenize_function, batched=True)\n",
    "test_dataset"
   ]
  },
  {
   "cell_type": "code",
   "execution_count": 231,
   "metadata": {},
   "outputs": [
    {
     "data": {
      "application/vnd.jupyter.widget-view+json": {
       "model_id": "7b645c78d77e424abcc098f29821b15e",
       "version_major": 2,
       "version_minor": 0
      },
      "text/plain": [
       "  0%|          | 0/2500 [00:00<?, ?it/s]"
      ]
     },
     "metadata": {},
     "output_type": "display_data"
    }
   ],
   "source": [
    "predictions = trainer.predict(test_dataset)"
   ]
  },
  {
   "cell_type": "code",
   "execution_count": 232,
   "metadata": {},
   "outputs": [],
   "source": [
    "preds = predictions.predictions.argmax(-1)\n",
    "labels = pd.Series(preds).map(model.config.id2label)\n",
    "scores = (np.exp(predictions[0])/np.exp(predictions[0]).sum(-1,keepdims=True)).max(1)"
   ]
  },
  {
   "cell_type": "code",
   "execution_count": 233,
   "metadata": {},
   "outputs": [
    {
     "data": {
      "text/html": [
       "<div>\n",
       "<style scoped>\n",
       "    .dataframe tbody tr th:only-of-type {\n",
       "        vertical-align: middle;\n",
       "    }\n",
       "\n",
       "    .dataframe tbody tr th {\n",
       "        vertical-align: top;\n",
       "    }\n",
       "\n",
       "    .dataframe thead th {\n",
       "        text-align: right;\n",
       "    }\n",
       "</style>\n",
       "<table border=\"1\" class=\"dataframe\">\n",
       "  <thead>\n",
       "    <tr style=\"text-align: right;\">\n",
       "      <th></th>\n",
       "      <th>pred</th>\n",
       "      <th>label</th>\n",
       "      <th>score</th>\n",
       "    </tr>\n",
       "  </thead>\n",
       "  <tbody>\n",
       "    <tr>\n",
       "      <th>0</th>\n",
       "      <td>0</td>\n",
       "      <td>NEGATIVE</td>\n",
       "      <td>0.994775</td>\n",
       "    </tr>\n",
       "    <tr>\n",
       "      <th>1</th>\n",
       "      <td>1</td>\n",
       "      <td>POSITIVE</td>\n",
       "      <td>0.969346</td>\n",
       "    </tr>\n",
       "    <tr>\n",
       "      <th>2</th>\n",
       "      <td>1</td>\n",
       "      <td>POSITIVE</td>\n",
       "      <td>0.998875</td>\n",
       "    </tr>\n",
       "    <tr>\n",
       "      <th>3</th>\n",
       "      <td>1</td>\n",
       "      <td>POSITIVE</td>\n",
       "      <td>0.998744</td>\n",
       "    </tr>\n",
       "    <tr>\n",
       "      <th>4</th>\n",
       "      <td>1</td>\n",
       "      <td>POSITIVE</td>\n",
       "      <td>0.998540</td>\n",
       "    </tr>\n",
       "    <tr>\n",
       "      <th>...</th>\n",
       "      <td>...</td>\n",
       "      <td>...</td>\n",
       "      <td>...</td>\n",
       "    </tr>\n",
       "    <tr>\n",
       "      <th>19995</th>\n",
       "      <td>0</td>\n",
       "      <td>NEGATIVE</td>\n",
       "      <td>0.972612</td>\n",
       "    </tr>\n",
       "    <tr>\n",
       "      <th>19996</th>\n",
       "      <td>0</td>\n",
       "      <td>NEGATIVE</td>\n",
       "      <td>0.997234</td>\n",
       "    </tr>\n",
       "    <tr>\n",
       "      <th>19997</th>\n",
       "      <td>0</td>\n",
       "      <td>NEGATIVE</td>\n",
       "      <td>0.998691</td>\n",
       "    </tr>\n",
       "    <tr>\n",
       "      <th>19998</th>\n",
       "      <td>0</td>\n",
       "      <td>NEGATIVE</td>\n",
       "      <td>0.998333</td>\n",
       "    </tr>\n",
       "    <tr>\n",
       "      <th>19999</th>\n",
       "      <td>1</td>\n",
       "      <td>POSITIVE</td>\n",
       "      <td>0.997110</td>\n",
       "    </tr>\n",
       "  </tbody>\n",
       "</table>\n",
       "<p>20000 rows × 3 columns</p>\n",
       "</div>"
      ],
      "text/plain": [
       "       pred     label     score\n",
       "0         0  NEGATIVE  0.994775\n",
       "1         1  POSITIVE  0.969346\n",
       "2         1  POSITIVE  0.998875\n",
       "3         1  POSITIVE  0.998744\n",
       "4         1  POSITIVE  0.998540\n",
       "...     ...       ...       ...\n",
       "19995     0  NEGATIVE  0.972612\n",
       "19996     0  NEGATIVE  0.997234\n",
       "19997     0  NEGATIVE  0.998691\n",
       "19998     0  NEGATIVE  0.998333\n",
       "19999     1  POSITIVE  0.997110\n",
       "\n",
       "[20000 rows x 3 columns]"
      ]
     },
     "execution_count": 233,
     "metadata": {},
     "output_type": "execute_result"
    }
   ],
   "source": [
    "df = pd.DataFrame(list(zip(preds,labels,scores)), columns=['pred','label','score'])\n",
    "df"
   ]
  },
  {
   "cell_type": "code",
   "execution_count": 234,
   "metadata": {},
   "outputs": [],
   "source": [
    "y_pred = preds\n",
    "y_true = test_dataset['label']"
   ]
  },
  {
   "cell_type": "code",
   "execution_count": 235,
   "metadata": {},
   "outputs": [
    {
     "name": "stdout",
     "output_type": "stream",
     "text": [
      "              precision    recall  f1-score   support\n",
      "\n",
      "    negative       0.78      0.71      0.74      9961\n",
      "    positive       0.73      0.80      0.77     10039\n",
      "\n",
      "    accuracy                           0.75     20000\n",
      "   macro avg       0.76      0.75      0.75     20000\n",
      "weighted avg       0.76      0.75      0.75     20000\n",
      "\n"
     ]
    }
   ],
   "source": [
    "print(classification_report(y_true, y_pred, target_names=['negative','positive']))"
   ]
  },
  {
   "cell_type": "code",
   "execution_count": null,
   "metadata": {},
   "outputs": [],
   "source": []
  }
 ],
 "metadata": {
  "kernelspec": {
   "display_name": ".venv",
   "language": "python",
   "name": "python3"
  },
  "language_info": {
   "codemirror_mode": {
    "name": "ipython",
    "version": 3
   },
   "file_extension": ".py",
   "mimetype": "text/x-python",
   "name": "python",
   "nbconvert_exporter": "python",
   "pygments_lexer": "ipython3",
   "version": "3.8.5"
  },
  "orig_nbformat": 4
 },
 "nbformat": 4,
 "nbformat_minor": 2
}
