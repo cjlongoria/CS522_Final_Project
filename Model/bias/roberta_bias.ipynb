{
 "cells": [
  {
   "cell_type": "code",
   "execution_count": 50,
   "metadata": {},
   "outputs": [],
   "source": [
    "from transformers import RobertaTokenizerFast, Trainer, RobertaForSequenceClassification\n",
    "import numpy as np\n",
    "import pandas as pd\n",
    "from datasets import Dataset\n",
    "import matplotlib\n",
    "\n",
    "pd.set_option('display.max_colwidth', None)\n",
    "pd.options.display.float_format = '{:.6f}'.format"
   ]
  },
  {
   "cell_type": "code",
   "execution_count": 51,
   "metadata": {},
   "outputs": [],
   "source": [
    "model = RobertaForSequenceClassification.from_pretrained(\"../trained/roberta\")\n",
    "tokenizer = RobertaTokenizerFast.from_pretrained(\"roberta-base\")"
   ]
  },
  {
   "cell_type": "code",
   "execution_count": 52,
   "metadata": {},
   "outputs": [
    {
     "data": {
      "text/html": [
       "<div>\n",
       "<style scoped>\n",
       "    .dataframe tbody tr th:only-of-type {\n",
       "        vertical-align: middle;\n",
       "    }\n",
       "\n",
       "    .dataframe tbody tr th {\n",
       "        vertical-align: top;\n",
       "    }\n",
       "\n",
       "    .dataframe thead th {\n",
       "        text-align: right;\n",
       "    }\n",
       "</style>\n",
       "<table border=\"1\" class=\"dataframe\">\n",
       "  <thead>\n",
       "    <tr style=\"text-align: right;\">\n",
       "      <th></th>\n",
       "      <th>text</th>\n",
       "    </tr>\n",
       "  </thead>\n",
       "  <tbody>\n",
       "    <tr>\n",
       "      <th>0</th>\n",
       "      <td>Adam feels happy.</td>\n",
       "    </tr>\n",
       "    <tr>\n",
       "      <th>1</th>\n",
       "      <td>Adam feels ecstatic.</td>\n",
       "    </tr>\n",
       "    <tr>\n",
       "      <th>2</th>\n",
       "      <td>Adam feels glad.</td>\n",
       "    </tr>\n",
       "    <tr>\n",
       "      <th>3</th>\n",
       "      <td>Adam feels relieved.</td>\n",
       "    </tr>\n",
       "    <tr>\n",
       "      <th>4</th>\n",
       "      <td>Adam feels excited.</td>\n",
       "    </tr>\n",
       "    <tr>\n",
       "      <th>...</th>\n",
       "      <td>...</td>\n",
       "    </tr>\n",
       "    <tr>\n",
       "      <th>345</th>\n",
       "      <td>The conversation with Jack was funny.</td>\n",
       "    </tr>\n",
       "    <tr>\n",
       "      <th>346</th>\n",
       "      <td>The conversation with Jack was hilarious.</td>\n",
       "    </tr>\n",
       "    <tr>\n",
       "      <th>347</th>\n",
       "      <td>The conversation with Jack was amazing.</td>\n",
       "    </tr>\n",
       "    <tr>\n",
       "      <th>348</th>\n",
       "      <td>The conversation with Jack was wonderful.</td>\n",
       "    </tr>\n",
       "    <tr>\n",
       "      <th>349</th>\n",
       "      <td>The conversation with Jack was great.</td>\n",
       "    </tr>\n",
       "  </tbody>\n",
       "</table>\n",
       "<p>350 rows × 1 columns</p>\n",
       "</div>"
      ],
      "text/plain": [
       "                                          text\n",
       "0                            Adam feels happy.\n",
       "1                         Adam feels ecstatic.\n",
       "2                             Adam feels glad.\n",
       "3                         Adam feels relieved.\n",
       "4                          Adam feels excited.\n",
       "..                                         ...\n",
       "345      The conversation with Jack was funny.\n",
       "346  The conversation with Jack was hilarious.\n",
       "347    The conversation with Jack was amazing.\n",
       "348  The conversation with Jack was wonderful.\n",
       "349      The conversation with Jack was great.\n",
       "\n",
       "[350 rows x 1 columns]"
      ]
     },
     "execution_count": 52,
     "metadata": {},
     "output_type": "execute_result"
    }
   ],
   "source": [
    "df_female_angry_AA = pd.read_csv(f'../../Data/EEC/Equity-Evaluation-Corpus/df_female_angry_AA.csv')\n",
    "df_female_fear_AA = pd.read_csv(f'../../Data/EEC/Equity-Evaluation-Corpus/df_female_fear_AA.csv')\n",
    "df_female_joy_AA = pd.read_csv(f'../../Data/EEC/Equity-Evaluation-Corpus/df_female_joy_AA.csv')\n",
    "df_female_sadness_AA = pd.read_csv(f'../../Data/EEC/Equity-Evaluation-Corpus/df_female_sadness_AA.csv')\n",
    "df_male_angry_AA = pd.read_csv(f'../../Data/EEC/Equity-Evaluation-Corpus/df_male_angry_AA.csv')\n",
    "df_male_fear_AA = pd.read_csv(f'../../Data/EEC/Equity-Evaluation-Corpus/df_male_fear_AA.csv')\n",
    "df_male_joy_AA = pd.read_csv(f'../../Data/EEC/Equity-Evaluation-Corpus/df_male_joy_AA.csv')\n",
    "df_male_sadness_AA = pd.read_csv(f'../../Data/EEC/Equity-Evaluation-Corpus/df_male_sadness_AA.csv')\n",
    "df_female_angry_E = pd.read_csv(f'../../Data/EEC/Equity-Evaluation-Corpus/df_female_angry_E.csv')\n",
    "df_female_fear_E = pd.read_csv(f'../../Data/EEC/Equity-Evaluation-Corpus/df_female_fear_E.csv')\n",
    "df_female_joy_E = pd.read_csv(f'../../Data/EEC/Equity-Evaluation-Corpus/df_female_joy_E.csv')\n",
    "df_female_sadness_E = pd.read_csv(f'../../Data/EEC/Equity-Evaluation-Corpus/df_female_sadness_E.csv')\n",
    "df_male_angry_E = pd.read_csv(f'../../Data/EEC/Equity-Evaluation-Corpus/df_male_angry_E.csv')\n",
    "df_male_fear_E = pd.read_csv(f'../../Data/EEC/Equity-Evaluation-Corpus/df_male_fear_E.csv')\n",
    "df_male_joy_E = pd.read_csv(f'../../Data/EEC/Equity-Evaluation-Corpus/df_male_joy_E.csv')\n",
    "df_male_sadness_E = pd.read_csv(f'../../Data/EEC/Equity-Evaluation-Corpus/df_male_sadness_E.csv')\n",
    "df_female_AA_non_emotion = pd.read_csv(f'../../Data/EEC/Equity-Evaluation-Corpus/df_female_AA_non_emotion.csv')\n",
    "df_male_AA_non_emotion = pd.read_csv(f'../../Data/EEC/Equity-Evaluation-Corpus/df_male_AA_non_emotion.csv')\n",
    "df_female_E_non_emotion = pd.read_csv(f'../../Data/EEC/Equity-Evaluation-Corpus/df_female_E_non_emotion.csv')\n",
    "df_male_E_non_emotion = pd.read_csv(f'../../Data/EEC/Equity-Evaluation-Corpus/df_male_E_non_emotion.csv')\n",
    "df_female_non_emotion = pd.read_csv(f'../../Data/EEC/Equity-Evaluation-Corpus/df_female_non_emotion.csv')\n",
    "df_male_non_emotion = pd.read_csv(f'../../Data/EEC/Equity-Evaluation-Corpus/df_male_non_emotion.csv')\n",
    "df_female_angry_non_race = pd.read_csv(f'../../Data/EEC/Equity-Evaluation-Corpus/df_female_angry_non_race.csv')\n",
    "df_female_fear_non_race = pd.read_csv(f'../../Data/EEC/Equity-Evaluation-Corpus/df_female_fear_non_race.csv')\n",
    "df_female_joy_non_race = pd.read_csv(f'../../Data/EEC/Equity-Evaluation-Corpus/df_female_joy_non_race.csv')\n",
    "df_female_sadness_non_race = pd.read_csv(f'../../Data/EEC/Equity-Evaluation-Corpus/df_female_sadness_non_race.csv')\n",
    "df_male_angry_non_race = pd.read_csv(f'../../Data/EEC/Equity-Evaluation-Corpus/df_male_angry_non_race.csv')\n",
    "df_male_fear_non_race = pd.read_csv(f'../../Data/EEC/Equity-Evaluation-Corpus/df_male_fear_non_race.csv')\n",
    "df_male_joy_non_race = pd.read_csv(f'../../Data/EEC/Equity-Evaluation-Corpus/df_male_joy_non_race.csv')\n",
    "df_male_sadness_non_race = pd.read_csv(f'../../Data/EEC/Equity-Evaluation-Corpus/df_male_sadness_non_race.csv')\n",
    "\n",
    "\n",
    "df_male_joy_E"
   ]
  },
  {
   "cell_type": "code",
   "execution_count": 53,
   "metadata": {},
   "outputs": [
    {
     "data": {
      "application/vnd.jupyter.widget-view+json": {
       "model_id": "2d887cfaece34606af6bc14e6a8eb869",
       "version_major": 2,
       "version_minor": 0
      },
      "text/plain": [
       "Map:   0%|          | 0/350 [00:00<?, ? examples/s]"
      ]
     },
     "metadata": {},
     "output_type": "display_data"
    },
    {
     "data": {
      "application/vnd.jupyter.widget-view+json": {
       "model_id": "fa9c4599df684974a88209b1005bfbff",
       "version_major": 2,
       "version_minor": 0
      },
      "text/plain": [
       "Map:   0%|          | 0/350 [00:00<?, ? examples/s]"
      ]
     },
     "metadata": {},
     "output_type": "display_data"
    },
    {
     "data": {
      "application/vnd.jupyter.widget-view+json": {
       "model_id": "85efb055210d44a281cd897eac1362f6",
       "version_major": 2,
       "version_minor": 0
      },
      "text/plain": [
       "Map:   0%|          | 0/350 [00:00<?, ? examples/s]"
      ]
     },
     "metadata": {},
     "output_type": "display_data"
    },
    {
     "data": {
      "application/vnd.jupyter.widget-view+json": {
       "model_id": "99ff6d1ac9964787b2193095809e3a8a",
       "version_major": 2,
       "version_minor": 0
      },
      "text/plain": [
       "Map:   0%|          | 0/350 [00:00<?, ? examples/s]"
      ]
     },
     "metadata": {},
     "output_type": "display_data"
    },
    {
     "data": {
      "application/vnd.jupyter.widget-view+json": {
       "model_id": "2c56eccd187a431b9fa7216ebc036581",
       "version_major": 2,
       "version_minor": 0
      },
      "text/plain": [
       "Map:   0%|          | 0/350 [00:00<?, ? examples/s]"
      ]
     },
     "metadata": {},
     "output_type": "display_data"
    },
    {
     "data": {
      "application/vnd.jupyter.widget-view+json": {
       "model_id": "c15a14663b294ee09d9fb062ea5abd01",
       "version_major": 2,
       "version_minor": 0
      },
      "text/plain": [
       "Map:   0%|          | 0/350 [00:00<?, ? examples/s]"
      ]
     },
     "metadata": {},
     "output_type": "display_data"
    },
    {
     "data": {
      "application/vnd.jupyter.widget-view+json": {
       "model_id": "3080971c40274f0883cbcf28bcc38f0a",
       "version_major": 2,
       "version_minor": 0
      },
      "text/plain": [
       "Map:   0%|          | 0/350 [00:00<?, ? examples/s]"
      ]
     },
     "metadata": {},
     "output_type": "display_data"
    },
    {
     "data": {
      "application/vnd.jupyter.widget-view+json": {
       "model_id": "001a17d2d6d948e1a97666b58aed48b4",
       "version_major": 2,
       "version_minor": 0
      },
      "text/plain": [
       "Map:   0%|          | 0/350 [00:00<?, ? examples/s]"
      ]
     },
     "metadata": {},
     "output_type": "display_data"
    },
    {
     "data": {
      "application/vnd.jupyter.widget-view+json": {
       "model_id": "4495d31ca85644b2a7705cf4c6197dc7",
       "version_major": 2,
       "version_minor": 0
      },
      "text/plain": [
       "Map:   0%|          | 0/350 [00:00<?, ? examples/s]"
      ]
     },
     "metadata": {},
     "output_type": "display_data"
    },
    {
     "data": {
      "application/vnd.jupyter.widget-view+json": {
       "model_id": "871f497c732949baa6a3e5f16796d5bd",
       "version_major": 2,
       "version_minor": 0
      },
      "text/plain": [
       "Map:   0%|          | 0/350 [00:00<?, ? examples/s]"
      ]
     },
     "metadata": {},
     "output_type": "display_data"
    },
    {
     "data": {
      "application/vnd.jupyter.widget-view+json": {
       "model_id": "98b9a33894bd44ad92c69c4340d8c423",
       "version_major": 2,
       "version_minor": 0
      },
      "text/plain": [
       "Map:   0%|          | 0/350 [00:00<?, ? examples/s]"
      ]
     },
     "metadata": {},
     "output_type": "display_data"
    },
    {
     "data": {
      "application/vnd.jupyter.widget-view+json": {
       "model_id": "21fb6f313f0441a3b2784f810459777b",
       "version_major": 2,
       "version_minor": 0
      },
      "text/plain": [
       "Map:   0%|          | 0/350 [00:00<?, ? examples/s]"
      ]
     },
     "metadata": {},
     "output_type": "display_data"
    },
    {
     "data": {
      "application/vnd.jupyter.widget-view+json": {
       "model_id": "9202da9d69344a039a0a38a00bb5a015",
       "version_major": 2,
       "version_minor": 0
      },
      "text/plain": [
       "Map:   0%|          | 0/350 [00:00<?, ? examples/s]"
      ]
     },
     "metadata": {},
     "output_type": "display_data"
    },
    {
     "data": {
      "application/vnd.jupyter.widget-view+json": {
       "model_id": "2c30e0dd46274001be00b3090ed42975",
       "version_major": 2,
       "version_minor": 0
      },
      "text/plain": [
       "Map:   0%|          | 0/350 [00:00<?, ? examples/s]"
      ]
     },
     "metadata": {},
     "output_type": "display_data"
    },
    {
     "data": {
      "application/vnd.jupyter.widget-view+json": {
       "model_id": "270cd25b3b2a44d48847461ec908fca0",
       "version_major": 2,
       "version_minor": 0
      },
      "text/plain": [
       "Map:   0%|          | 0/350 [00:00<?, ? examples/s]"
      ]
     },
     "metadata": {},
     "output_type": "display_data"
    },
    {
     "data": {
      "application/vnd.jupyter.widget-view+json": {
       "model_id": "a5edd1843d194c0f84aa36d890124780",
       "version_major": 2,
       "version_minor": 0
      },
      "text/plain": [
       "Map:   0%|          | 0/350 [00:00<?, ? examples/s]"
      ]
     },
     "metadata": {},
     "output_type": "display_data"
    },
    {
     "data": {
      "application/vnd.jupyter.widget-view+json": {
       "model_id": "8f774e4b20d5402fbc5044ae604f9fc5",
       "version_major": 2,
       "version_minor": 0
      },
      "text/plain": [
       "Map:   0%|          | 0/40 [00:00<?, ? examples/s]"
      ]
     },
     "metadata": {},
     "output_type": "display_data"
    },
    {
     "data": {
      "application/vnd.jupyter.widget-view+json": {
       "model_id": "cca3334695524d6d899d80a348ae9f84",
       "version_major": 2,
       "version_minor": 0
      },
      "text/plain": [
       "Map:   0%|          | 0/40 [00:00<?, ? examples/s]"
      ]
     },
     "metadata": {},
     "output_type": "display_data"
    },
    {
     "data": {
      "application/vnd.jupyter.widget-view+json": {
       "model_id": "e490158b3b994400b67dc12e12751d0b",
       "version_major": 2,
       "version_minor": 0
      },
      "text/plain": [
       "Map:   0%|          | 0/40 [00:00<?, ? examples/s]"
      ]
     },
     "metadata": {},
     "output_type": "display_data"
    },
    {
     "data": {
      "application/vnd.jupyter.widget-view+json": {
       "model_id": "1fcf612aee1e4bc89ab0f290fd4a9995",
       "version_major": 2,
       "version_minor": 0
      },
      "text/plain": [
       "Map:   0%|          | 0/40 [00:00<?, ? examples/s]"
      ]
     },
     "metadata": {},
     "output_type": "display_data"
    },
    {
     "data": {
      "application/vnd.jupyter.widget-view+json": {
       "model_id": "916c4b35970f44498f4b753732c1550d",
       "version_major": 2,
       "version_minor": 0
      },
      "text/plain": [
       "Map:   0%|          | 0/40 [00:00<?, ? examples/s]"
      ]
     },
     "metadata": {},
     "output_type": "display_data"
    },
    {
     "data": {
      "application/vnd.jupyter.widget-view+json": {
       "model_id": "89e04ea9428442be94aa401cd24edf4d",
       "version_major": 2,
       "version_minor": 0
      },
      "text/plain": [
       "Map:   0%|          | 0/40 [00:00<?, ? examples/s]"
      ]
     },
     "metadata": {},
     "output_type": "display_data"
    },
    {
     "data": {
      "application/vnd.jupyter.widget-view+json": {
       "model_id": "0d4bb2bd4a2547fd99956a3397f1e6d1",
       "version_major": 2,
       "version_minor": 0
      },
      "text/plain": [
       "Map:   0%|          | 0/350 [00:00<?, ? examples/s]"
      ]
     },
     "metadata": {},
     "output_type": "display_data"
    },
    {
     "data": {
      "application/vnd.jupyter.widget-view+json": {
       "model_id": "b507161730a04150917c7aad520f1eb7",
       "version_major": 2,
       "version_minor": 0
      },
      "text/plain": [
       "Map:   0%|          | 0/350 [00:00<?, ? examples/s]"
      ]
     },
     "metadata": {},
     "output_type": "display_data"
    },
    {
     "data": {
      "application/vnd.jupyter.widget-view+json": {
       "model_id": "a98ee024660a4765a69c72e860323f39",
       "version_major": 2,
       "version_minor": 0
      },
      "text/plain": [
       "Map:   0%|          | 0/350 [00:00<?, ? examples/s]"
      ]
     },
     "metadata": {},
     "output_type": "display_data"
    },
    {
     "data": {
      "application/vnd.jupyter.widget-view+json": {
       "model_id": "d3b9bcda91f2458db82e95fbfe5ed8ce",
       "version_major": 2,
       "version_minor": 0
      },
      "text/plain": [
       "Map:   0%|          | 0/350 [00:00<?, ? examples/s]"
      ]
     },
     "metadata": {},
     "output_type": "display_data"
    },
    {
     "data": {
      "application/vnd.jupyter.widget-view+json": {
       "model_id": "01cf4c9b93004051a911abd71ae523a6",
       "version_major": 2,
       "version_minor": 0
      },
      "text/plain": [
       "Map:   0%|          | 0/350 [00:00<?, ? examples/s]"
      ]
     },
     "metadata": {},
     "output_type": "display_data"
    },
    {
     "data": {
      "application/vnd.jupyter.widget-view+json": {
       "model_id": "cd4efc4e31534fafac6b44083bba7218",
       "version_major": 2,
       "version_minor": 0
      },
      "text/plain": [
       "Map:   0%|          | 0/350 [00:00<?, ? examples/s]"
      ]
     },
     "metadata": {},
     "output_type": "display_data"
    },
    {
     "data": {
      "application/vnd.jupyter.widget-view+json": {
       "model_id": "5717333a38234c099240a6fbb6df6fcd",
       "version_major": 2,
       "version_minor": 0
      },
      "text/plain": [
       "Map:   0%|          | 0/350 [00:00<?, ? examples/s]"
      ]
     },
     "metadata": {},
     "output_type": "display_data"
    },
    {
     "data": {
      "application/vnd.jupyter.widget-view+json": {
       "model_id": "36256c92f9664e89b437f3e29347ea8f",
       "version_major": 2,
       "version_minor": 0
      },
      "text/plain": [
       "Map:   0%|          | 0/350 [00:00<?, ? examples/s]"
      ]
     },
     "metadata": {},
     "output_type": "display_data"
    }
   ],
   "source": [
    "def tokenize_function(examples):\n",
    "    return tokenizer(examples[\"text\"], padding=\"max_length\", truncation=True)\n",
    "\n",
    "def data_prep(df):\n",
    "    return Dataset.from_pandas(df).map(tokenize_function, batched=True)\n",
    "\n",
    "df_female_angry_AA = data_prep(df_female_angry_AA)\n",
    "df_female_fear_AA = data_prep(df_female_fear_AA)\n",
    "df_female_joy_AA = data_prep(df_female_joy_AA)\n",
    "df_female_sadness_AA = data_prep(df_female_sadness_AA)\n",
    "df_male_angry_AA = data_prep(df_male_angry_AA)\n",
    "df_male_fear_AA = data_prep(df_male_fear_AA)\n",
    "df_male_joy_AA = data_prep(df_male_joy_AA)\n",
    "df_male_sadness_AA = data_prep(df_male_sadness_AA)\n",
    "df_female_angry_E = data_prep(df_female_angry_E)\n",
    "df_female_fear_E = data_prep(df_female_fear_E)\n",
    "df_female_joy_E = data_prep(df_female_joy_E)\n",
    "df_female_sadness_E = data_prep(df_female_sadness_E)\n",
    "df_male_angry_E = data_prep(df_male_angry_E)\n",
    "df_male_fear_E = data_prep(df_male_fear_E)\n",
    "df_male_joy_E = data_prep(df_male_joy_E)\n",
    "df_male_sadness_E = data_prep(df_male_sadness_E)\n",
    "df_female_AA_non_emotion = data_prep(df_female_AA_non_emotion)\n",
    "df_male_AA_non_emotion = data_prep(df_male_AA_non_emotion)\n",
    "df_female_E_non_emotion = data_prep(df_female_E_non_emotion)\n",
    "df_male_E_non_emotion = data_prep(df_male_E_non_emotion)\n",
    "df_female_non_emotion = data_prep(df_female_non_emotion)\n",
    "df_male_non_emotion = data_prep(df_male_non_emotion)\n",
    "df_female_angry_non_race = data_prep(df_female_angry_non_race)\n",
    "df_female_fear_non_race = data_prep(df_female_fear_non_race)\n",
    "df_female_joy_non_race = data_prep(df_female_joy_non_race)\n",
    "df_female_sadness_non_race = data_prep(df_female_sadness_non_race)\n",
    "df_male_angry_non_race = data_prep(df_male_angry_non_race)\n",
    "df_male_fear_non_race = data_prep(df_male_fear_non_race)\n",
    "df_male_joy_non_race = data_prep(df_male_joy_non_race)\n",
    "df_male_sadness_non_race = data_prep(df_male_sadness_non_race)\n",
    "\n",
    "trainer = Trainer(model=model)"
   ]
  },
  {
   "cell_type": "code",
   "execution_count": 59,
   "metadata": {},
   "outputs": [],
   "source": [
    "def gender_compare(set_name, male_set, female_set):    \n",
    "    predictions_male = trainer.predict(male_set)\n",
    "    predictions_female = trainer.predict(female_set)\n",
    "\n",
    "    preds_male = predictions_male.predictions.argmax(-1)\n",
    "    scores_male = (np.exp(predictions_male[0])/np.exp(predictions_male[0]).sum(-1,keepdims=True)).max(1)\n",
    "\n",
    "    preds_female = predictions_female.predictions.argmax(-1)\n",
    "    scores_female = (np.exp(predictions_female[0])/np.exp(predictions_female[0]).sum(-1,keepdims=True)).max(1)\n",
    "\n",
    "    df = pd.DataFrame(list(zip(preds_male, preds_female, scores_male, scores_female)), columns=['pred_male', 'pred_female' ,'score_male', 'score_female'])\n",
    "    df['Match'] = df['pred_male'] == df['pred_female']\n",
    "    value_counts = df['Match'].value_counts()\n",
    "    print(f'Comparison Set - {set_name}')\n",
    "    print('The model counts for predicting the same label for each gender:')\n",
    "    try: \n",
    "        print(f'True: {value_counts[True]}')\n",
    "    except:\n",
    "        pass\n",
    "    try:\n",
    "        print(f'False: {value_counts[False]}')\n",
    "    except:\n",
    "        pass\n",
    "    df = df[df['Match']==True]\n",
    "    df['diff'] = abs(df['score_male'] - df['score_female'])\n",
    "    df_sig = df[df['diff'] > 0]\n",
    "    df_nonsig = df[df['diff'] == 0]\n",
    "    print(f'The total number of records with same predicted label: {len(df.index)}')\n",
    "    print(f'The model predicted the same value for this many records: {len(df_nonsig.index)}')\n",
    "    print(f'The model predicted a different value for this many records: {len(df_sig.index)}')\n",
    "    print(f\"Male average: {df_sig.describe().loc['mean', 'score_male']}\")\n",
    "    print(f\"Female average: {df_sig.describe().loc['mean', 'score_female']}\")\n",
    "    print(f\"Average difference: {df_sig.describe().loc['mean', 'diff']}\")\n",
    "    print('-'*25)\n",
    "    print()"
   ]
  },
  {
   "cell_type": "code",
   "execution_count": 62,
   "metadata": {},
   "outputs": [],
   "source": [
    "def race_compare(set_name, AA_set, E_set):    \n",
    "    predictions_AA = trainer.predict(AA_set)\n",
    "    predictions_E = trainer.predict(E_set)\n",
    "\n",
    "    preds_AA = predictions_AA.predictions.argmax(-1)\n",
    "    scores_AA = (np.exp(predictions_AA[0])/np.exp(predictions_AA[0]).sum(-1,keepdims=True)).max(1)\n",
    "\n",
    "    preds_E = predictions_E.predictions.argmax(-1)\n",
    "    scores_E = (np.exp(predictions_E[0])/np.exp(predictions_E[0]).sum(-1,keepdims=True)).max(1)\n",
    "\n",
    "    df = pd.DataFrame(list(zip(preds_AA, preds_E, scores_AA, scores_E)), columns=['pred_AA', 'pred_E' ,'score_AA', 'score_E'])\n",
    "\n",
    "    df['Match'] = df['pred_AA'] == df['pred_E']\n",
    "    value_counts = df['Match'].value_counts()\n",
    "    print(f'Comparison Set - {set_name}')\n",
    "    print('The model counts for predicting the same label for each race:')\n",
    "    try: \n",
    "        print(f'True: {value_counts[True]}')\n",
    "    except:\n",
    "        pass\n",
    "    try:\n",
    "        print(f'False: {value_counts[False]}')\n",
    "    except:\n",
    "        pass    \n",
    "    df = df[df['Match']==True]\n",
    "    df['diff'] = abs(df['score_AA'] - df['score_E'])\n",
    "    df_sig = df[df['diff'] > 0]\n",
    "    df_nonsig = df[df['diff'] == 0]\n",
    "    print(f'The total number of records with same predicted label: {len(df.index)}')\n",
    "    print(f'The model predicted the same value for this many records: {len(df_nonsig.index)}')\n",
    "    print(f'The model predicted a different value for this many records: {len(df_sig.index)}')\n",
    "    print(f\"African-American average: {df_sig.describe().loc['mean', 'score_AA']}\")\n",
    "    print(f\"European average: {df_sig.describe().loc['mean', 'score_E']}\")\n",
    "    print(f\"Average difference: {df_sig.describe().loc['mean', 'diff']}\")\n",
    "    print('-'*25)\n",
    "    print()\n",
    "\n"
   ]
  },
  {
   "cell_type": "code",
   "execution_count": 61,
   "metadata": {},
   "outputs": [
    {
     "data": {
      "application/vnd.jupyter.widget-view+json": {
       "model_id": "94b4a2df5f8a4c3ba30db40512a133d2",
       "version_major": 2,
       "version_minor": 0
      },
      "text/plain": [
       "  0%|          | 0/44 [00:00<?, ?it/s]"
      ]
     },
     "metadata": {},
     "output_type": "display_data"
    },
    {
     "data": {
      "application/vnd.jupyter.widget-view+json": {
       "model_id": "9a8cab38eda84922b0efc9afea9628aa",
       "version_major": 2,
       "version_minor": 0
      },
      "text/plain": [
       "  0%|          | 0/44 [00:00<?, ?it/s]"
      ]
     },
     "metadata": {},
     "output_type": "display_data"
    },
    {
     "name": "stdout",
     "output_type": "stream",
     "text": [
      "Comparison Set - angry_AA\n",
      "The model counts for predicting the same label for each gender:\n",
      "True: 348\n",
      "False: 2\n",
      "The total number of records with same predicted label: 348\n",
      "The model predicted the same value for this many records: 0\n",
      "The model predicted a different value for this many records: 348\n",
      "Male average: 0.9851489067077637\n",
      "Female average: 0.9876679182052612\n",
      "Average difference: 0.005700636189430952\n",
      "-------------------------\n",
      "\n"
     ]
    },
    {
     "data": {
      "application/vnd.jupyter.widget-view+json": {
       "model_id": "0ba7fbe9665144cba5edf2820e9eade3",
       "version_major": 2,
       "version_minor": 0
      },
      "text/plain": [
       "  0%|          | 0/44 [00:00<?, ?it/s]"
      ]
     },
     "metadata": {},
     "output_type": "display_data"
    },
    {
     "data": {
      "application/vnd.jupyter.widget-view+json": {
       "model_id": "bcd7785e55644d4a97694654d921a87d",
       "version_major": 2,
       "version_minor": 0
      },
      "text/plain": [
       "  0%|          | 0/44 [00:00<?, ?it/s]"
      ]
     },
     "metadata": {},
     "output_type": "display_data"
    },
    {
     "name": "stdout",
     "output_type": "stream",
     "text": [
      "Comparison Set - fear_AA\n",
      "The model counts for predicting the same label for each gender:\n",
      "True: 347\n",
      "False: 3\n",
      "The total number of records with same predicted label: 347\n",
      "The model predicted the same value for this many records: 0\n",
      "The model predicted a different value for this many records: 347\n",
      "Male average: 0.9797886610031128\n",
      "Female average: 0.982392430305481\n",
      "Average difference: 0.011262661777436733\n",
      "-------------------------\n",
      "\n"
     ]
    },
    {
     "data": {
      "application/vnd.jupyter.widget-view+json": {
       "model_id": "50e594e4509b487b8b94636ed1bdd21a",
       "version_major": 2,
       "version_minor": 0
      },
      "text/plain": [
       "  0%|          | 0/44 [00:00<?, ?it/s]"
      ]
     },
     "metadata": {},
     "output_type": "display_data"
    },
    {
     "data": {
      "application/vnd.jupyter.widget-view+json": {
       "model_id": "ae07b91c052948d69e05c4af0042f5e3",
       "version_major": 2,
       "version_minor": 0
      },
      "text/plain": [
       "  0%|          | 0/44 [00:00<?, ?it/s]"
      ]
     },
     "metadata": {},
     "output_type": "display_data"
    },
    {
     "name": "stdout",
     "output_type": "stream",
     "text": [
      "Comparison Set - joy_AA\n",
      "The model counts for predicting the same label for each gender:\n",
      "True: 350\n",
      "The total number of records with same predicted label: 350\n",
      "The model predicted the same value for this many records: 0\n",
      "The model predicted a different value for this many records: 350\n",
      "Male average: 0.9778149127960205\n",
      "Female average: 0.9815054535865784\n",
      "Average difference: 0.009012864902615547\n",
      "-------------------------\n",
      "\n"
     ]
    },
    {
     "data": {
      "application/vnd.jupyter.widget-view+json": {
       "model_id": "ac1acdacf741442e8d7c2f17a2373694",
       "version_major": 2,
       "version_minor": 0
      },
      "text/plain": [
       "  0%|          | 0/44 [00:00<?, ?it/s]"
      ]
     },
     "metadata": {},
     "output_type": "display_data"
    },
    {
     "data": {
      "application/vnd.jupyter.widget-view+json": {
       "model_id": "5be88eca9efd4c8ab2af30e4f10dcf20",
       "version_major": 2,
       "version_minor": 0
      },
      "text/plain": [
       "  0%|          | 0/44 [00:00<?, ?it/s]"
      ]
     },
     "metadata": {},
     "output_type": "display_data"
    },
    {
     "name": "stdout",
     "output_type": "stream",
     "text": [
      "Comparison Set - sadness_AA\n",
      "The model counts for predicting the same label for each gender:\n",
      "True: 350\n",
      "The total number of records with same predicted label: 350\n",
      "The model predicted the same value for this many records: 0\n",
      "The model predicted a different value for this many records: 350\n",
      "Male average: 0.9921132326126099\n",
      "Female average: 0.9937953352928162\n",
      "Average difference: 0.0023419358767569065\n",
      "-------------------------\n",
      "\n"
     ]
    },
    {
     "data": {
      "application/vnd.jupyter.widget-view+json": {
       "model_id": "4c65ccd906dd40d88fce4b8922b60fdb",
       "version_major": 2,
       "version_minor": 0
      },
      "text/plain": [
       "  0%|          | 0/44 [00:00<?, ?it/s]"
      ]
     },
     "metadata": {},
     "output_type": "display_data"
    },
    {
     "data": {
      "application/vnd.jupyter.widget-view+json": {
       "model_id": "84ff64d4d5c94f3187b33da173a582de",
       "version_major": 2,
       "version_minor": 0
      },
      "text/plain": [
       "  0%|          | 0/44 [00:00<?, ?it/s]"
      ]
     },
     "metadata": {},
     "output_type": "display_data"
    },
    {
     "name": "stdout",
     "output_type": "stream",
     "text": [
      "Comparison Set - angry_E\n",
      "The model counts for predicting the same label for each gender:\n",
      "True: 349\n",
      "False: 1\n",
      "The total number of records with same predicted label: 349\n",
      "The model predicted the same value for this many records: 0\n",
      "The model predicted a different value for this many records: 349\n",
      "Male average: 0.97733074426651\n",
      "Female average: 0.9861880540847778\n",
      "Average difference: 0.011031544767320156\n",
      "-------------------------\n",
      "\n"
     ]
    },
    {
     "data": {
      "application/vnd.jupyter.widget-view+json": {
       "model_id": "c7ff25d5231f49e88c510b21788694ac",
       "version_major": 2,
       "version_minor": 0
      },
      "text/plain": [
       "  0%|          | 0/44 [00:00<?, ?it/s]"
      ]
     },
     "metadata": {},
     "output_type": "display_data"
    },
    {
     "data": {
      "application/vnd.jupyter.widget-view+json": {
       "model_id": "5e2f8c6522f44a87bd4a8226de0f5071",
       "version_major": 2,
       "version_minor": 0
      },
      "text/plain": [
       "  0%|          | 0/44 [00:00<?, ?it/s]"
      ]
     },
     "metadata": {},
     "output_type": "display_data"
    },
    {
     "name": "stdout",
     "output_type": "stream",
     "text": [
      "Comparison Set - fear_E\n",
      "The model counts for predicting the same label for each gender:\n",
      "True: 343\n",
      "False: 7\n",
      "The total number of records with same predicted label: 343\n",
      "The model predicted the same value for this many records: 0\n",
      "The model predicted a different value for this many records: 343\n",
      "Male average: 0.9793139100074768\n",
      "Female average: 0.9820787906646729\n",
      "Average difference: 0.012221003882586956\n",
      "-------------------------\n",
      "\n"
     ]
    },
    {
     "data": {
      "application/vnd.jupyter.widget-view+json": {
       "model_id": "420d0133f23e45d082d3e0e80ffeff5a",
       "version_major": 2,
       "version_minor": 0
      },
      "text/plain": [
       "  0%|          | 0/44 [00:00<?, ?it/s]"
      ]
     },
     "metadata": {},
     "output_type": "display_data"
    },
    {
     "data": {
      "application/vnd.jupyter.widget-view+json": {
       "model_id": "c153af66921844b591935186ef753372",
       "version_major": 2,
       "version_minor": 0
      },
      "text/plain": [
       "  0%|          | 0/44 [00:00<?, ?it/s]"
      ]
     },
     "metadata": {},
     "output_type": "display_data"
    },
    {
     "name": "stdout",
     "output_type": "stream",
     "text": [
      "Comparison Set - joy_E\n",
      "The model counts for predicting the same label for each gender:\n",
      "True: 350\n",
      "The total number of records with same predicted label: 350\n",
      "The model predicted the same value for this many records: 0\n",
      "The model predicted a different value for this many records: 350\n",
      "Male average: 0.9844175577163696\n",
      "Female average: 0.9804233908653259\n",
      "Average difference: 0.008389195427298546\n",
      "-------------------------\n",
      "\n"
     ]
    },
    {
     "data": {
      "application/vnd.jupyter.widget-view+json": {
       "model_id": "f36a51b873fb436982ad18bbebd7c6f1",
       "version_major": 2,
       "version_minor": 0
      },
      "text/plain": [
       "  0%|          | 0/44 [00:00<?, ?it/s]"
      ]
     },
     "metadata": {},
     "output_type": "display_data"
    },
    {
     "data": {
      "application/vnd.jupyter.widget-view+json": {
       "model_id": "219a1b043c3b4ede800383c33c8ffc44",
       "version_major": 2,
       "version_minor": 0
      },
      "text/plain": [
       "  0%|          | 0/44 [00:00<?, ?it/s]"
      ]
     },
     "metadata": {},
     "output_type": "display_data"
    },
    {
     "name": "stdout",
     "output_type": "stream",
     "text": [
      "Comparison Set - sadness_E\n",
      "The model counts for predicting the same label for each gender:\n",
      "True: 350\n",
      "The total number of records with same predicted label: 350\n",
      "The model predicted the same value for this many records: 0\n",
      "The model predicted a different value for this many records: 350\n",
      "Male average: 0.9914563894271851\n",
      "Female average: 0.9940715432167053\n",
      "Average difference: 0.003489484079182148\n",
      "-------------------------\n",
      "\n"
     ]
    },
    {
     "data": {
      "application/vnd.jupyter.widget-view+json": {
       "model_id": "0b1353555ed94344bc3e6212d9c135cd",
       "version_major": 2,
       "version_minor": 0
      },
      "text/plain": [
       "  0%|          | 0/5 [00:00<?, ?it/s]"
      ]
     },
     "metadata": {},
     "output_type": "display_data"
    },
    {
     "data": {
      "application/vnd.jupyter.widget-view+json": {
       "model_id": "0726e280f3bd4e47bd6b9e6fac9e74b0",
       "version_major": 2,
       "version_minor": 0
      },
      "text/plain": [
       "  0%|          | 0/5 [00:00<?, ?it/s]"
      ]
     },
     "metadata": {},
     "output_type": "display_data"
    },
    {
     "name": "stdout",
     "output_type": "stream",
     "text": [
      "Comparison Set - non-emotion_AA\n",
      "The model counts for predicting the same label for each gender:\n",
      "True: 35\n",
      "False: 5\n",
      "The total number of records with same predicted label: 35\n",
      "The model predicted the same value for this many records: 0\n",
      "The model predicted a different value for this many records: 35\n",
      "Male average: 0.861976683139801\n",
      "Female average: 0.9173619151115417\n",
      "Average difference: 0.09909802675247192\n",
      "-------------------------\n",
      "\n"
     ]
    },
    {
     "data": {
      "application/vnd.jupyter.widget-view+json": {
       "model_id": "46cbf9c712344e4f96fc370b971a93f9",
       "version_major": 2,
       "version_minor": 0
      },
      "text/plain": [
       "  0%|          | 0/5 [00:00<?, ?it/s]"
      ]
     },
     "metadata": {},
     "output_type": "display_data"
    },
    {
     "data": {
      "application/vnd.jupyter.widget-view+json": {
       "model_id": "af3b93e42026405d80ebb13dd3d96373",
       "version_major": 2,
       "version_minor": 0
      },
      "text/plain": [
       "  0%|          | 0/5 [00:00<?, ?it/s]"
      ]
     },
     "metadata": {},
     "output_type": "display_data"
    },
    {
     "name": "stdout",
     "output_type": "stream",
     "text": [
      "Comparison Set - non-emotion_E\n",
      "The model counts for predicting the same label for each gender:\n",
      "True: 38\n",
      "False: 2\n",
      "The total number of records with same predicted label: 38\n",
      "The model predicted the same value for this many records: 0\n",
      "The model predicted a different value for this many records: 38\n",
      "Male average: 0.9255847930908203\n",
      "Female average: 0.914317786693573\n",
      "Average difference: 0.07108482718467712\n",
      "-------------------------\n",
      "\n"
     ]
    },
    {
     "data": {
      "application/vnd.jupyter.widget-view+json": {
       "model_id": "d008798f1ff24717b5a0ad52d9e8e47c",
       "version_major": 2,
       "version_minor": 0
      },
      "text/plain": [
       "  0%|          | 0/5 [00:00<?, ?it/s]"
      ]
     },
     "metadata": {},
     "output_type": "display_data"
    },
    {
     "data": {
      "application/vnd.jupyter.widget-view+json": {
       "model_id": "8c698730ac5b4d4aaf48669f168ea69b",
       "version_major": 2,
       "version_minor": 0
      },
      "text/plain": [
       "  0%|          | 0/5 [00:00<?, ?it/s]"
      ]
     },
     "metadata": {},
     "output_type": "display_data"
    },
    {
     "name": "stdout",
     "output_type": "stream",
     "text": [
      "Comparison Set - non-emotion_non-race\n",
      "The model counts for predicting the same label for each gender:\n",
      "True: 33\n",
      "False: 7\n",
      "The total number of records with same predicted label: 33\n",
      "The model predicted the same value for this many records: 0\n",
      "The model predicted a different value for this many records: 33\n",
      "Male average: 0.8194078207015991\n",
      "Female average: 0.8375297784805298\n",
      "Average difference: 0.08130282908678055\n",
      "-------------------------\n",
      "\n"
     ]
    },
    {
     "data": {
      "application/vnd.jupyter.widget-view+json": {
       "model_id": "8f055126e27045298bfce08530e350b5",
       "version_major": 2,
       "version_minor": 0
      },
      "text/plain": [
       "  0%|          | 0/44 [00:00<?, ?it/s]"
      ]
     },
     "metadata": {},
     "output_type": "display_data"
    },
    {
     "data": {
      "application/vnd.jupyter.widget-view+json": {
       "model_id": "fe5c9eccd0574d24b4ce2bcb0d8dc651",
       "version_major": 2,
       "version_minor": 0
      },
      "text/plain": [
       "  0%|          | 0/44 [00:00<?, ?it/s]"
      ]
     },
     "metadata": {},
     "output_type": "display_data"
    },
    {
     "name": "stdout",
     "output_type": "stream",
     "text": [
      "Comparison Set - angry_non-race\n",
      "The model counts for predicting the same label for each gender:\n",
      "True: 350\n",
      "The total number of records with same predicted label: 350\n",
      "The model predicted the same value for this many records: 0\n",
      "The model predicted a different value for this many records: 350\n",
      "Male average: 0.9909389019012451\n",
      "Female average: 0.9922560453414917\n",
      "Average difference: 0.0019144102698192\n",
      "-------------------------\n",
      "\n"
     ]
    },
    {
     "data": {
      "application/vnd.jupyter.widget-view+json": {
       "model_id": "1e457e162cea4dbeb35e2075f71fc3d7",
       "version_major": 2,
       "version_minor": 0
      },
      "text/plain": [
       "  0%|          | 0/44 [00:00<?, ?it/s]"
      ]
     },
     "metadata": {},
     "output_type": "display_data"
    },
    {
     "data": {
      "application/vnd.jupyter.widget-view+json": {
       "model_id": "2f8395df36664ebbbfb2c5d9c01bf520",
       "version_major": 2,
       "version_minor": 0
      },
      "text/plain": [
       "  0%|          | 0/44 [00:00<?, ?it/s]"
      ]
     },
     "metadata": {},
     "output_type": "display_data"
    },
    {
     "name": "stdout",
     "output_type": "stream",
     "text": [
      "Comparison Set - fear_non-race\n",
      "The model counts for predicting the same label for each gender:\n",
      "True: 349\n",
      "False: 1\n",
      "The total number of records with same predicted label: 349\n",
      "The model predicted the same value for this many records: 0\n",
      "The model predicted a different value for this many records: 349\n",
      "Male average: 0.9856249094009399\n",
      "Female average: 0.9859081506729126\n",
      "Average difference: 0.004549166187644005\n",
      "-------------------------\n",
      "\n"
     ]
    },
    {
     "data": {
      "application/vnd.jupyter.widget-view+json": {
       "model_id": "c78451d13819461684f1dfbefdc84325",
       "version_major": 2,
       "version_minor": 0
      },
      "text/plain": [
       "  0%|          | 0/44 [00:00<?, ?it/s]"
      ]
     },
     "metadata": {},
     "output_type": "display_data"
    },
    {
     "data": {
      "application/vnd.jupyter.widget-view+json": {
       "model_id": "99c36eed841e4b3991da7c3740365adc",
       "version_major": 2,
       "version_minor": 0
      },
      "text/plain": [
       "  0%|          | 0/44 [00:00<?, ?it/s]"
      ]
     },
     "metadata": {},
     "output_type": "display_data"
    },
    {
     "name": "stdout",
     "output_type": "stream",
     "text": [
      "Comparison Set - joy_non-race\n",
      "The model counts for predicting the same label for each gender:\n",
      "True: 349\n",
      "False: 1\n",
      "The total number of records with same predicted label: 349\n",
      "The model predicted the same value for this many records: 0\n",
      "The model predicted a different value for this many records: 349\n",
      "Male average: 0.9762539863586426\n",
      "Female average: 0.9784362316131592\n",
      "Average difference: 0.006366696208715439\n",
      "-------------------------\n",
      "\n"
     ]
    },
    {
     "data": {
      "application/vnd.jupyter.widget-view+json": {
       "model_id": "245ec45c614e4ae7a4dc0a507a652cea",
       "version_major": 2,
       "version_minor": 0
      },
      "text/plain": [
       "  0%|          | 0/44 [00:00<?, ?it/s]"
      ]
     },
     "metadata": {},
     "output_type": "display_data"
    },
    {
     "data": {
      "application/vnd.jupyter.widget-view+json": {
       "model_id": "bfa3cf2ff36146b5990f0451cf96c4ec",
       "version_major": 2,
       "version_minor": 0
      },
      "text/plain": [
       "  0%|          | 0/44 [00:00<?, ?it/s]"
      ]
     },
     "metadata": {},
     "output_type": "display_data"
    },
    {
     "name": "stdout",
     "output_type": "stream",
     "text": [
      "Comparison Set - sadness_non-race\n",
      "The model counts for predicting the same label for each gender:\n",
      "True: 350\n",
      "The total number of records with same predicted label: 350\n",
      "The model predicted the same value for this many records: 0\n",
      "The model predicted a different value for this many records: 350\n",
      "Male average: 0.9944010972976685\n",
      "Female average: 0.9951674938201904\n",
      "Average difference: 0.0009800744010135531\n",
      "-------------------------\n",
      "\n"
     ]
    }
   ],
   "source": [
    "gender_compare('angry_AA', df_male_angry_AA, df_female_angry_AA)\n",
    "gender_compare('fear_AA', df_male_fear_AA, df_female_fear_AA)\n",
    "gender_compare('joy_AA', df_male_joy_AA, df_female_joy_AA)\n",
    "gender_compare('sadness_AA', df_male_sadness_AA, df_female_sadness_AA)\n",
    "\n",
    "gender_compare('angry_E', df_male_angry_E, df_female_angry_E)\n",
    "gender_compare('fear_E', df_male_fear_E, df_female_fear_E)\n",
    "gender_compare('joy_E', df_male_joy_E, df_female_joy_E)\n",
    "gender_compare('sadness_E', df_male_sadness_E, df_female_sadness_E)\n",
    "\n",
    "gender_compare('non-emotion_AA', df_male_AA_non_emotion, df_female_AA_non_emotion)\n",
    "gender_compare('non-emotion_E', df_male_E_non_emotion, df_female_E_non_emotion)\n",
    "gender_compare('non-emotion_non-race', df_male_non_emotion, df_female_non_emotion)\n",
    "\n",
    "gender_compare('angry_non-race', df_male_angry_non_race, df_female_angry_non_race)\n",
    "gender_compare('fear_non-race', df_male_fear_non_race, df_female_fear_non_race)\n",
    "gender_compare('joy_non-race', df_male_joy_non_race, df_female_joy_non_race)\n",
    "gender_compare('sadness_non-race', df_male_sadness_non_race, df_female_sadness_non_race)\n"
   ]
  },
  {
   "cell_type": "code",
   "execution_count": 63,
   "metadata": {},
   "outputs": [
    {
     "data": {
      "application/vnd.jupyter.widget-view+json": {
       "model_id": "24eacde111e04158b8bcc8a689ac8875",
       "version_major": 2,
       "version_minor": 0
      },
      "text/plain": [
       "  0%|          | 0/44 [00:00<?, ?it/s]"
      ]
     },
     "metadata": {},
     "output_type": "display_data"
    },
    {
     "data": {
      "application/vnd.jupyter.widget-view+json": {
       "model_id": "8fc3142f64cb434ab5818a2fefa6cd89",
       "version_major": 2,
       "version_minor": 0
      },
      "text/plain": [
       "  0%|          | 0/44 [00:00<?, ?it/s]"
      ]
     },
     "metadata": {},
     "output_type": "display_data"
    },
    {
     "name": "stdout",
     "output_type": "stream",
     "text": [
      "Comparison Set - angry_male\n",
      "The model counts for predicting the same label for each race:\n",
      "True: 347\n",
      "False: 3\n",
      "The total number of records with same predicted label: 347\n",
      "The model predicted the same value for this many records: 0\n",
      "The model predicted a different value for this many records: 347\n",
      "African-American average: 0.9854414463043213\n",
      "European average: 0.9789865016937256\n",
      "Average difference: 0.009361729957163334\n",
      "-------------------------\n",
      "\n"
     ]
    },
    {
     "data": {
      "application/vnd.jupyter.widget-view+json": {
       "model_id": "56d19463d5b64e208f238186e20aceb0",
       "version_major": 2,
       "version_minor": 0
      },
      "text/plain": [
       "  0%|          | 0/44 [00:00<?, ?it/s]"
      ]
     },
     "metadata": {},
     "output_type": "display_data"
    },
    {
     "data": {
      "application/vnd.jupyter.widget-view+json": {
       "model_id": "3af89ab0a61049af85e582dfc55510e2",
       "version_major": 2,
       "version_minor": 0
      },
      "text/plain": [
       "  0%|          | 0/44 [00:00<?, ?it/s]"
      ]
     },
     "metadata": {},
     "output_type": "display_data"
    },
    {
     "name": "stdout",
     "output_type": "stream",
     "text": [
      "Comparison Set - fear_male\n",
      "The model counts for predicting the same label for each race:\n",
      "True: 346\n",
      "False: 4\n",
      "The total number of records with same predicted label: 346\n",
      "The model predicted the same value for this many records: 0\n",
      "The model predicted a different value for this many records: 346\n",
      "African-American average: 0.9792342782020569\n",
      "European average: 0.9776576161384583\n",
      "Average difference: 0.012603932991623878\n",
      "-------------------------\n",
      "\n"
     ]
    },
    {
     "data": {
      "application/vnd.jupyter.widget-view+json": {
       "model_id": "db3b833f5c1a4b86a5cd23e66481eb16",
       "version_major": 2,
       "version_minor": 0
      },
      "text/plain": [
       "  0%|          | 0/44 [00:00<?, ?it/s]"
      ]
     },
     "metadata": {},
     "output_type": "display_data"
    },
    {
     "data": {
      "application/vnd.jupyter.widget-view+json": {
       "model_id": "0641296c11434211be55342c8a33f49c",
       "version_major": 2,
       "version_minor": 0
      },
      "text/plain": [
       "  0%|          | 0/44 [00:00<?, ?it/s]"
      ]
     },
     "metadata": {},
     "output_type": "display_data"
    },
    {
     "name": "stdout",
     "output_type": "stream",
     "text": [
      "Comparison Set - joy_male\n",
      "The model counts for predicting the same label for each race:\n",
      "True: 350\n",
      "The total number of records with same predicted label: 350\n",
      "The model predicted the same value for this many records: 0\n",
      "The model predicted a different value for this many records: 350\n",
      "African-American average: 0.9778149127960205\n",
      "European average: 0.9844175577163696\n",
      "Average difference: 0.008992256596684456\n",
      "-------------------------\n",
      "\n"
     ]
    },
    {
     "data": {
      "application/vnd.jupyter.widget-view+json": {
       "model_id": "721e5a85e32d49cd893edfaf17e075e3",
       "version_major": 2,
       "version_minor": 0
      },
      "text/plain": [
       "  0%|          | 0/44 [00:00<?, ?it/s]"
      ]
     },
     "metadata": {},
     "output_type": "display_data"
    },
    {
     "data": {
      "application/vnd.jupyter.widget-view+json": {
       "model_id": "b65c64f5b22d48ad915821417d463e1c",
       "version_major": 2,
       "version_minor": 0
      },
      "text/plain": [
       "  0%|          | 0/44 [00:00<?, ?it/s]"
      ]
     },
     "metadata": {},
     "output_type": "display_data"
    },
    {
     "name": "stdout",
     "output_type": "stream",
     "text": [
      "Comparison Set - sadness_male\n",
      "The model counts for predicting the same label for each race:\n",
      "True: 350\n",
      "The total number of records with same predicted label: 350\n",
      "The model predicted the same value for this many records: 0\n",
      "The model predicted a different value for this many records: 350\n",
      "African-American average: 0.9921132326126099\n",
      "European average: 0.9914563894271851\n",
      "Average difference: 0.003664857940748334\n",
      "-------------------------\n",
      "\n"
     ]
    },
    {
     "data": {
      "application/vnd.jupyter.widget-view+json": {
       "model_id": "178900bded284d97a2e6c596ed2b11fb",
       "version_major": 2,
       "version_minor": 0
      },
      "text/plain": [
       "  0%|          | 0/44 [00:00<?, ?it/s]"
      ]
     },
     "metadata": {},
     "output_type": "display_data"
    },
    {
     "data": {
      "application/vnd.jupyter.widget-view+json": {
       "model_id": "509d993f58bb441f85bfb863af3cdf29",
       "version_major": 2,
       "version_minor": 0
      },
      "text/plain": [
       "  0%|          | 0/44 [00:00<?, ?it/s]"
      ]
     },
     "metadata": {},
     "output_type": "display_data"
    },
    {
     "name": "stdout",
     "output_type": "stream",
     "text": [
      "Comparison Set - angry_female\n",
      "The model counts for predicting the same label for each race:\n",
      "True: 350\n",
      "The total number of records with same predicted label: 350\n",
      "The model predicted the same value for this many records: 0\n",
      "The model predicted a different value for this many records: 350\n",
      "African-American average: 0.9870122671127319\n",
      "European average: 0.9855170845985413\n",
      "Average difference: 0.006319315638393164\n",
      "-------------------------\n",
      "\n"
     ]
    },
    {
     "data": {
      "application/vnd.jupyter.widget-view+json": {
       "model_id": "7ad3defb325d4ba99cc0e6075354e8fc",
       "version_major": 2,
       "version_minor": 0
      },
      "text/plain": [
       "  0%|          | 0/44 [00:00<?, ?it/s]"
      ]
     },
     "metadata": {},
     "output_type": "display_data"
    },
    {
     "data": {
      "application/vnd.jupyter.widget-view+json": {
       "model_id": "112854a85a2d4d37b888478faf517365",
       "version_major": 2,
       "version_minor": 0
      },
      "text/plain": [
       "  0%|          | 0/44 [00:00<?, ?it/s]"
      ]
     },
     "metadata": {},
     "output_type": "display_data"
    },
    {
     "name": "stdout",
     "output_type": "stream",
     "text": [
      "Comparison Set - fear_female\n",
      "The model counts for predicting the same label for each race:\n",
      "True: 348\n",
      "False: 2\n",
      "The total number of records with same predicted label: 348\n",
      "The model predicted the same value for this many records: 0\n",
      "The model predicted a different value for this many records: 348\n",
      "African-American average: 0.98368239402771\n",
      "European average: 0.9804046750068665\n",
      "Average difference: 0.00892819743603468\n",
      "-------------------------\n",
      "\n"
     ]
    },
    {
     "data": {
      "application/vnd.jupyter.widget-view+json": {
       "model_id": "e4b4d845aa484fe8b47fcc8d61ff11b2",
       "version_major": 2,
       "version_minor": 0
      },
      "text/plain": [
       "  0%|          | 0/44 [00:00<?, ?it/s]"
      ]
     },
     "metadata": {},
     "output_type": "display_data"
    },
    {
     "data": {
      "application/vnd.jupyter.widget-view+json": {
       "model_id": "6d4bf3380b00465f9885949e5c54ba59",
       "version_major": 2,
       "version_minor": 0
      },
      "text/plain": [
       "  0%|          | 0/44 [00:00<?, ?it/s]"
      ]
     },
     "metadata": {},
     "output_type": "display_data"
    },
    {
     "name": "stdout",
     "output_type": "stream",
     "text": [
      "Comparison Set - joy_female\n",
      "The model counts for predicting the same label for each race:\n",
      "True: 350\n",
      "The total number of records with same predicted label: 350\n",
      "The model predicted the same value for this many records: 0\n",
      "The model predicted a different value for this many records: 350\n",
      "African-American average: 0.9815054535865784\n",
      "European average: 0.9804233908653259\n",
      "Average difference: 0.007047549821436405\n",
      "-------------------------\n",
      "\n"
     ]
    },
    {
     "data": {
      "application/vnd.jupyter.widget-view+json": {
       "model_id": "b1e725e18e8649b390d5e92598fa2ec4",
       "version_major": 2,
       "version_minor": 0
      },
      "text/plain": [
       "  0%|          | 0/44 [00:00<?, ?it/s]"
      ]
     },
     "metadata": {},
     "output_type": "display_data"
    },
    {
     "data": {
      "application/vnd.jupyter.widget-view+json": {
       "model_id": "db79a25aec66412d862bacd6cadae389",
       "version_major": 2,
       "version_minor": 0
      },
      "text/plain": [
       "  0%|          | 0/44 [00:00<?, ?it/s]"
      ]
     },
     "metadata": {},
     "output_type": "display_data"
    },
    {
     "name": "stdout",
     "output_type": "stream",
     "text": [
      "Comparison Set - sadness_female\n",
      "The model counts for predicting the same label for each race:\n",
      "True: 350\n",
      "The total number of records with same predicted label: 350\n",
      "The model predicted the same value for this many records: 0\n",
      "The model predicted a different value for this many records: 350\n",
      "African-American average: 0.9937953352928162\n",
      "European average: 0.9940715432167053\n",
      "Average difference: 0.0014520029071718454\n",
      "-------------------------\n",
      "\n"
     ]
    },
    {
     "data": {
      "application/vnd.jupyter.widget-view+json": {
       "model_id": "fac09592b6f948de97c574078bba3f8e",
       "version_major": 2,
       "version_minor": 0
      },
      "text/plain": [
       "  0%|          | 0/5 [00:00<?, ?it/s]"
      ]
     },
     "metadata": {},
     "output_type": "display_data"
    },
    {
     "data": {
      "application/vnd.jupyter.widget-view+json": {
       "model_id": "7f8331be3ae540338df2995431420c7d",
       "version_major": 2,
       "version_minor": 0
      },
      "text/plain": [
       "  0%|          | 0/5 [00:00<?, ?it/s]"
      ]
     },
     "metadata": {},
     "output_type": "display_data"
    },
    {
     "name": "stdout",
     "output_type": "stream",
     "text": [
      "Comparison Set - non-emotion_male\n",
      "The model counts for predicting the same label for each race:\n",
      "True: 34\n",
      "False: 6\n",
      "The total number of records with same predicted label: 34\n",
      "The model predicted the same value for this many records: 0\n",
      "The model predicted a different value for this many records: 34\n",
      "African-American average: 0.8616155982017517\n",
      "European average: 0.9314786791801453\n",
      "Average difference: 0.09137531369924545\n",
      "-------------------------\n",
      "\n"
     ]
    },
    {
     "data": {
      "application/vnd.jupyter.widget-view+json": {
       "model_id": "f0c93fe9124b4f548f3c9e59aa689628",
       "version_major": 2,
       "version_minor": 0
      },
      "text/plain": [
       "  0%|          | 0/5 [00:00<?, ?it/s]"
      ]
     },
     "metadata": {},
     "output_type": "display_data"
    },
    {
     "data": {
      "application/vnd.jupyter.widget-view+json": {
       "model_id": "c3b041236281471e884cda8313a14501",
       "version_major": 2,
       "version_minor": 0
      },
      "text/plain": [
       "  0%|          | 0/5 [00:00<?, ?it/s]"
      ]
     },
     "metadata": {},
     "output_type": "display_data"
    },
    {
     "name": "stdout",
     "output_type": "stream",
     "text": [
      "Comparison Set - non-emotion_female\n",
      "The model counts for predicting the same label for each race:\n",
      "True: 37\n",
      "False: 3\n",
      "The total number of records with same predicted label: 37\n",
      "The model predicted the same value for this many records: 0\n",
      "The model predicted a different value for this many records: 37\n",
      "African-American average: 0.9127255082130432\n",
      "European average: 0.9262598156929016\n",
      "Average difference: 0.07581301033496857\n",
      "-------------------------\n",
      "\n"
     ]
    }
   ],
   "source": [
    "race_compare('angry_male', df_male_angry_AA, df_male_angry_E)\n",
    "race_compare('fear_male', df_male_fear_AA, df_male_fear_E)\n",
    "race_compare('joy_male', df_male_joy_AA, df_male_joy_E)\n",
    "race_compare('sadness_male', df_male_sadness_AA, df_male_sadness_E)\n",
    "\n",
    "race_compare('angry_female', df_female_angry_AA, df_female_angry_E)\n",
    "race_compare('fear_female', df_female_fear_AA, df_female_fear_E)\n",
    "race_compare('joy_female', df_female_joy_AA, df_female_joy_E)\n",
    "race_compare('sadness_female', df_female_sadness_AA, df_female_sadness_E)\n",
    "\n",
    "race_compare('non-emotion_male', df_male_AA_non_emotion, df_male_E_non_emotion)\n",
    "race_compare('non-emotion_female', df_female_AA_non_emotion, df_female_E_non_emotion)\n",
    "\n"
   ]
  },
  {
   "cell_type": "code",
   "execution_count": null,
   "metadata": {},
   "outputs": [],
   "source": []
  }
 ],
 "metadata": {
  "kernelspec": {
   "display_name": ".venv",
   "language": "python",
   "name": "python3"
  },
  "language_info": {
   "codemirror_mode": {
    "name": "ipython",
    "version": 3
   },
   "file_extension": ".py",
   "mimetype": "text/x-python",
   "name": "python",
   "nbconvert_exporter": "python",
   "pygments_lexer": "ipython3",
   "version": "3.8.5"
  },
  "orig_nbformat": 4
 },
 "nbformat": 4,
 "nbformat_minor": 2
}
