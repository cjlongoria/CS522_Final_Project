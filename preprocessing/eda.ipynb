{
 "cells": [
  {
   "cell_type": "code",
   "execution_count": 165,
   "metadata": {},
   "outputs": [],
   "source": [
    "# Import Libraries\n",
    "import pandas as pd\n",
    "import nltk\n",
    "from nltk.corpus import stopwords, wordnet\n",
    "from nltk.stem import PorterStemmer, WordNetLemmatizer\n",
    "import re"
   ]
  },
  {
   "cell_type": "code",
   "execution_count": 166,
   "metadata": {},
   "outputs": [],
   "source": [
    "# Import data \n",
    "pd.set_option('display.max_colwidth', None)\n",
    "column_names = ['target', 'ids', 'date', 'flag', 'user', 'text']\n",
    "\n",
    "df = pd.read_csv('../Data/Tweets.csv', encoding = 'latin1', header=None, names=column_names)"
   ]
  },
  {
   "cell_type": "code",
   "execution_count": 167,
   "metadata": {},
   "outputs": [],
   "source": [
    "# Drop useless columns\n",
    "drop_columns = ['ids', 'date', 'flag', 'user']\n",
    "\n",
    "df.drop(columns=drop_columns, axis=1, inplace=True)"
   ]
  },
  {
   "cell_type": "code",
   "execution_count": 168,
   "metadata": {},
   "outputs": [],
   "source": [
    "# Convert target to a binary classifier (-1 or 1)\n",
    "df['target'].replace({0:-1,4:1},inplace=True)"
   ]
  },
  {
   "cell_type": "code",
   "execution_count": 169,
   "metadata": {},
   "outputs": [],
   "source": [
    "# Remove urls\n",
    "url_pattern = re.compile(r'https?://\\S+|www\\.\\S+|\\b\\w+\\.com\\b|\\b\\w+\\.org\\b')\n",
    "df['text'] = df['text'].apply(lambda x: url_pattern.sub('', x))"
   ]
  },
  {
   "cell_type": "code",
   "execution_count": 170,
   "metadata": {},
   "outputs": [],
   "source": [
    "# Remove usernames\n",
    "username_pattern = re.compile(r'@\\w+')\n",
    "df['text'] = df['text'].apply(lambda x: username_pattern.sub('', x))"
   ]
  },
  {
   "cell_type": "code",
   "execution_count": 171,
   "metadata": {},
   "outputs": [],
   "source": [
    "# Create a copy to perform further processing\n",
    "df_raw = df.copy(deep=True)"
   ]
  },
  {
   "cell_type": "code",
   "execution_count": 172,
   "metadata": {},
   "outputs": [
    {
     "name": "stderr",
     "output_type": "stream",
     "text": [
      "[nltk_data] Downloading package stopwords to\n",
      "[nltk_data]     C:\\Users\\nadee\\AppData\\Roaming\\nltk_data...\n",
      "[nltk_data]   Package stopwords is already up-to-date!\n"
     ]
    }
   ],
   "source": [
    "# Remove stop words\n",
    "nltk.download('stopwords')\n",
    "stop_words = set(stopwords.words('english'))\n",
    "df['text'] = df['text'].apply(lambda x: ' '.join([word for word in x.split() if word.lower() not in stop_words]))"
   ]
  },
  {
   "cell_type": "code",
   "execution_count": 173,
   "metadata": {},
   "outputs": [
    {
     "name": "stdout",
     "output_type": "stream",
     "text": [
      "Empty tweets before:  4544\n",
      "Empty tweets after:  0\n"
     ]
    }
   ],
   "source": [
    "# Remove empty tweets\n",
    "df['text'] = df['text'].apply(lambda x: x.strip())\n",
    "\n",
    "print(\"Empty tweets before: \", len(df[df[\"text\"]==\"\"]))\n",
    "df.drop(df[df['text']==\"\"].index, inplace=True)\n",
    "print(\"Empty tweets after: \", len(df[df[\"text\"]==\"\"]))"
   ]
  },
  {
   "cell_type": "code",
   "execution_count": 174,
   "metadata": {},
   "outputs": [],
   "source": [
    "# Partition data\n",
    "df_train = df.sample(n=10000, random_state=17)\n",
    "df_test = df.sample(n=5000, random_state=37)\n",
    "df_validate = df.sample(n=2000, random_state=71)\n",
    "\n",
    "df_raw_train = df_raw.iloc[df_train.index]\n",
    "df_raw_test = df_raw.iloc[df_test.index]\n",
    "df_raw_validate = df_raw.iloc[df_validate.index]"
   ]
  },
  {
   "cell_type": "code",
   "execution_count": 176,
   "metadata": {},
   "outputs": [],
   "source": [
    "# Functions for lemmatization and stemming         \n",
    "def get_wordnet_pos(word):\n",
    "    \"\"\"Map POS tag to first character lemmatize() accepts\"\"\"\n",
    "    tag = nltk.pos_tag([word])[0][1][0].upper()\n",
    "    tag_dict = {\"J\": wordnet.ADJ,\n",
    "                \"N\": wordnet.NOUN,\n",
    "                \"V\": wordnet.VERB,\n",
    "                \"R\": wordnet.ADV}\n",
    "\n",
    "    return tag_dict.get(tag, wordnet.NOUN)\n",
    "\n",
    "def lemmatize(sentence):\n",
    "    ps = PorterStemmer()\n",
    "    wnl = WordNetLemmatizer()\n",
    "\n",
    "    words = sentence.split()\n",
    "    result = ' '.join([(wnl.lemmatize(w, get_wordnet_pos(w))) for w in words])\n",
    "\n",
    "    return result"
   ]
  },
  {
   "cell_type": "code",
   "execution_count": 179,
   "metadata": {},
   "outputs": [],
   "source": [
    "# Lemmatize the tweets\n",
    "df_train['text'] = df_train['text'].apply(lemmatize)\n",
    "df_test['text'] = df_test['text'].apply(lemmatize)\n",
    "df_validate['text'] = df_validate['text'].apply(lemmatize)"
   ]
  },
  {
   "cell_type": "code",
   "execution_count": 180,
   "metadata": {},
   "outputs": [
    {
     "name": "stdout",
     "output_type": "stream",
     "text": [
      "Count:\t\t  -1   1\n",
      "df_train \t 4939 5061\n",
      "df_raw_train \t 4939 5061\n",
      "df_test \t 2472 2528\n",
      "df_raw_test \t 2472 2528\n",
      "df_validate \t 947 1053\n",
      "df_raw_validate  947 1053\n"
     ]
    }
   ],
   "source": [
    "# Analyze target distribution\n",
    "print(\"Count:\\t\\t  -1   1\")\n",
    "print(\"df_train \\t\", len(df_train[df_train[\"target\"]==-1]), len(df_train[df_train[\"target\"]==1]))\n",
    "print(\"df_raw_train \\t\", len(df_raw_train[df_raw_train[\"target\"]==-1]), len(df_raw_train[df_raw_train[\"target\"]==1]))\n",
    "print(\"df_test \\t\", len(df_test[df_test[\"target\"]==-1]), len(df_test[df_test[\"target\"]==1]))\n",
    "print(\"df_raw_test \\t\", len(df_raw_test[df_raw_test[\"target\"]==-1]), len(df_raw_test[df_raw_test[\"target\"]==1]))\n",
    "print(\"df_validate \\t\", len(df_validate[df_validate[\"target\"]==-1]), len(df_validate[df_validate[\"target\"]==1]))\n",
    "print(\"df_raw_validate \", len(df_raw_validate[df_raw_validate[\"target\"]==-1]), len(df_raw_validate[df_raw_validate[\"target\"]==1]))"
   ]
  },
  {
   "cell_type": "code",
   "execution_count": 184,
   "metadata": {},
   "outputs": [],
   "source": [
    "# Output final CSv files\n",
    "df_train.to_csv(\"../Data/data_processed_train.csv\", index=False)\n",
    "df_test.to_csv(\"../Data/data_processed_test.csv\", index=False)\n",
    "df_validate.to_csv(\"../Data/data_processed_validate.csv\", index=False)\n",
    "\n",
    "df_raw_train.to_csv(\"../Data/data_unprocessed_train.csv\", index=False)\n",
    "df_raw_test.to_csv(\"../Data/data_unprocessed_test.csv\", index=False)\n",
    "df_raw_validate.to_csv(\"../Data/data_unprocessed_validate.csv\", index=False)"
   ]
  }
 ],
 "metadata": {
  "kernelspec": {
   "display_name": ".venv",
   "language": "python",
   "name": "python3"
  },
  "language_info": {
   "codemirror_mode": {
    "name": "ipython",
    "version": 3
   },
   "file_extension": ".py",
   "mimetype": "text/x-python",
   "name": "python",
   "nbconvert_exporter": "python",
   "pygments_lexer": "ipython3",
   "version": "3.10.4"
  },
  "orig_nbformat": 4
 },
 "nbformat": 4,
 "nbformat_minor": 2
}
